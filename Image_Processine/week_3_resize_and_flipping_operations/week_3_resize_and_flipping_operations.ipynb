{
 "cells": [
  {
   "cell_type": "code",
   "execution_count": 16,
   "id": "4ff3880f-2635-44d4-98f8-c078bd914b08",
   "metadata": {},
   "outputs": [],
   "source": [
    "import cv2\n",
    "import numpy as np"
   ]
  },
  {
   "cell_type": "code",
   "execution_count": 17,
   "id": "86c71c0e-0b73-4abb-a0d6-2470ca791328",
   "metadata": {},
   "outputs": [
    {
     "data": {
      "text/plain": [
       "(166, 303, 3)"
      ]
     },
     "execution_count": 17,
     "metadata": {},
     "output_type": "execute_result"
    }
   ],
   "source": [
    "my_img = cv2.imread(\"./brezilya.jfif\",1)\n",
    "my_img.shape"
   ]
  },
  {
   "cell_type": "code",
   "execution_count": 18,
   "id": "47084b6c-0e10-4eff-bf42-f4a93ccedd06",
   "metadata": {},
   "outputs": [],
   "source": [
    "cv2.imshow(\"RGB image\",my_img)\n",
    "cv2.waitKey(0)\n",
    "cv2.destroyAllWindows()\n"
   ]
  },
  {
   "cell_type": "code",
   "execution_count": 19,
   "id": "3ead12cc-a369-48b2-b534-2c7d32f0d06f",
   "metadata": {},
   "outputs": [],
   "source": [
    "vertical_img = cv2.flip(my_img,0)\n",
    "hortizontal_img = cv2.flip(my_img,1)\n",
    "both_img = cv2.flip(my_img,-1)\n"
   ]
  },
  {
   "cell_type": "code",
   "execution_count": 20,
   "id": "d8d02652-5083-4f8d-be43-ab4e600ae758",
   "metadata": {},
   "outputs": [],
   "source": [
    "cv2.imshow(\"Orginal image\",my_img)\n",
    "cv2.imshow(\"vertical image\",vertical_img)\n",
    "cv2.imshow(\"hortizontal image\",hortizontal_img)\n",
    "cv2.imshow(\"both image\",both_img)\n",
    "\n",
    "cv2.waitKey(0)\n",
    "cv2.destroyAllWindows()\n"
   ]
  },
  {
   "cell_type": "code",
   "execution_count": 21,
   "id": "37dbcbf2-122a-4135-89fa-edcec3e83e08",
   "metadata": {},
   "outputs": [],
   "source": [
    "new_vertical_img = my_img[::-1,:,:]\n",
    "new_hortizontal_img = my_img[:,::-1,:]\n",
    "new_both_img = my_img[::-1,::-1,:]\n"
   ]
  },
  {
   "cell_type": "code",
   "execution_count": 23,
   "id": "80350096-811b-4eab-8449-19fa6f5c6095",
   "metadata": {},
   "outputs": [],
   "source": [
    "cv2.imshow(\"Orginal image\",my_img)\n",
    "cv2.imshow(\"vertical image\",new_vertical_img)\n",
    "cv2.imshow(\"hortizontal image\",new_hortizontal_img)\n",
    "cv2.imshow(\"both image\",new_both_img)\n",
    "\n",
    "cv2.waitKey(0)\n",
    "cv2.destroyAllWindows()\n"
   ]
  },
  {
   "cell_type": "code",
   "execution_count": 24,
   "id": "7c92e0b9-4962-4e4c-8c70-6b9941c0466d",
   "metadata": {},
   "outputs": [
    {
     "data": {
      "text/plain": [
       "(166, 303, 3)"
      ]
     },
     "execution_count": 24,
     "metadata": {},
     "output_type": "execute_result"
    }
   ],
   "source": [
    "my_img.shape"
   ]
  },
  {
   "cell_type": "code",
   "execution_count": 34,
   "id": "c8330573-e4ef-47a6-bdd9-176183b74105",
   "metadata": {},
   "outputs": [],
   "source": [
    "my_resized_img = cv2.resize(my_img,(90,200),cv2.INTER_LANCZOS4)"
   ]
  },
  {
   "cell_type": "code",
   "execution_count": 38,
   "id": "28a3bd0d-2580-4a51-a39d-5618a1814640",
   "metadata": {},
   "outputs": [],
   "source": [
    "cv2.imshow(\"Orginal image\",my_img)\n",
    "cv2.imshow(\"Resized image\",my_resized_img)\n",
    "\n",
    "cv2.waitKey(0)\n",
    "cv2.destroyAllWindows()"
   ]
  },
  {
   "cell_type": "code",
   "execution_count": 36,
   "id": "567a0bcc-f6b7-44bd-ad9b-b8a02f8e7890",
   "metadata": {},
   "outputs": [],
   "source": [
    "my_resized_img2 = cv2.resize(my_img,(220,400),cv2.INTER_LANCZOS4)"
   ]
  },
  {
   "cell_type": "code",
   "execution_count": 39,
   "id": "a6ede3ef-0fcb-4ba2-96ff-5a23004c33b1",
   "metadata": {},
   "outputs": [],
   "source": [
    "cv2.imshow(\"Orginal image\",my_img)\n",
    "cv2.imshow(\"Resized image\",my_resized_img2)\n",
    "\n",
    "cv2.waitKey(0)\n",
    "cv2.destroyAllWindows()"
   ]
  },
  {
   "cell_type": "code",
   "execution_count": 41,
   "id": "31994932-8feb-4f65-a4c9-e65f59fd05ea",
   "metadata": {},
   "outputs": [
    {
     "data": {
      "text/plain": [
       "True"
      ]
     },
     "execution_count": 41,
     "metadata": {},
     "output_type": "execute_result"
    }
   ],
   "source": [
    "cv2.imwrite(\"./resized_image_small_output.png\",my_resized_img)"
   ]
  },
  {
   "cell_type": "code",
   "execution_count": 42,
   "id": "d0208d45-b12e-4a8a-a47b-990d9178cfcd",
   "metadata": {},
   "outputs": [
    {
     "data": {
      "text/plain": [
       "True"
      ]
     },
     "execution_count": 42,
     "metadata": {},
     "output_type": "execute_result"
    }
   ],
   "source": [
    "cv2.imwrite(\"./resized_image_big_output.png\",my_resized_img2)"
   ]
  },
  {
   "cell_type": "code",
   "execution_count": null,
   "id": "27b17fa2-f33e-4b85-bf7f-a914b1ea1c81",
   "metadata": {},
   "outputs": [],
   "source": []
  }
 ],
 "metadata": {
  "kernelspec": {
   "display_name": "env_ybs_3",
   "language": "python",
   "name": "env_ybs_3"
  },
  "language_info": {
   "codemirror_mode": {
    "name": "ipython",
    "version": 3
   },
   "file_extension": ".py",
   "mimetype": "text/x-python",
   "name": "python",
   "nbconvert_exporter": "python",
   "pygments_lexer": "ipython3",
   "version": "3.10.10"
  }
 },
 "nbformat": 4,
 "nbformat_minor": 5
}
